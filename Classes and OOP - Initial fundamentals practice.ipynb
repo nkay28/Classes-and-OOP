{
 "cells": [
  {
   "cell_type": "markdown",
   "metadata": {},
   "source": [
    "\n",
    "<div class=\"alert\" style=\"background-color:#fff; color:white; padding:0px 10px; border-radius:5px;\"><h1 style='margin:15px 15px; color:#008B8B; font-size:40px'> Classes and OOP </h1>\n",
    "</div>\n",
    "\n"
   ]
  },
  {
   "cell_type": "code",
   "execution_count": null,
   "metadata": {},
   "outputs": [],
   "source": []
  },
  {
   "cell_type": "markdown",
   "metadata": {},
   "source": [
    "\n",
    "- Class and Object creation\n",
    "- Instance variables and Methods, and Class level attributes\n",
    "- Model systems with class inheritance i.e., inherit From Other Classes\n",
    "- Parent Classes and Child Classes\n",
    "- Extend the functionality of Parent Classes using Child class\n",
    "- Object checking\n",
    "\n"
   ]
  },
  {
   "cell_type": "code",
   "execution_count": null,
   "metadata": {},
   "outputs": [],
   "source": []
  },
  {
   "cell_type": "markdown",
   "metadata": {},
   "source": [
    "## Create a Class with instance attributes: "
   ]
  },
  {
   "cell_type": "code",
   "execution_count": 2,
   "metadata": {},
   "outputs": [
    {
     "name": "stdout",
     "output_type": "stream",
     "text": [
      "160 25\n"
     ]
    }
   ],
   "source": [
    "\n",
    "## Create a Class with instance attributes: \n",
    "class Vehicle: \n",
    "    # Constructor:\n",
    "    #-------------\n",
    "    def __init__(self, max_speed, mileage):\n",
    "        # body of the constructor:\n",
    "        # Instance variable:\n",
    "        self.max_speed = max_speed\n",
    "        self.mileage = mileage\n",
    "        \n",
    "        \n",
    "\n",
    "# Create object of the class: \n",
    "rav = Vehicle(160, 25)\n",
    "print(rav.max_speed, rav.mileage)\n",
    "\n"
   ]
  },
  {
   "cell_type": "code",
   "execution_count": null,
   "metadata": {},
   "outputs": [],
   "source": []
  },
  {
   "cell_type": "markdown",
   "metadata": {},
   "source": [
    "## Create a Vehicle class without any variables and methods\n"
   ]
  },
  {
   "cell_type": "code",
   "execution_count": 3,
   "metadata": {},
   "outputs": [],
   "source": [
    "\n",
    "## Create a Vehicle class without any variables and methods\n",
    "class Vehicle:\n",
    "    pass\n",
    "  \n"
   ]
  },
  {
   "cell_type": "code",
   "execution_count": null,
   "metadata": {},
   "outputs": [],
   "source": []
  },
  {
   "cell_type": "markdown",
   "metadata": {},
   "source": [
    "## Create a child class Bus that will inherit all of the variables and methods of the Vehicle class\n"
   ]
  },
  {
   "cell_type": "code",
   "execution_count": 11,
   "metadata": {},
   "outputs": [
    {
     "name": "stdout",
     "output_type": "stream",
     "text": [
      "school volvo 180 20\n"
     ]
    }
   ],
   "source": [
    "\n",
    "## Create a child class Bus that will inherit all of the variables and methods of the Vehicle class\n",
    "class Vehicle:\n",
    "\n",
    "    def __init__(self, name, max_speed, mileage):\n",
    "        self.name = name\n",
    "        self.max_speed = max_speed\n",
    "        self.mileage = mileage\n",
    "        \n",
    "        \n",
    "class Bus(Vehicle): \n",
    "    pass\n",
    "\n",
    "\n",
    "        \n",
    "# Object for testing: \n",
    "school_bus = Bus(\"school volvo\", 180, 20)\n",
    "print(school_bus.name, school_bus.max_speed, school_bus.mileage)\n",
    "    \n",
    "\n"
   ]
  },
  {
   "cell_type": "code",
   "execution_count": null,
   "metadata": {},
   "outputs": [],
   "source": []
  },
  {
   "cell_type": "markdown",
   "metadata": {},
   "source": [
    "## Class Inheritance: \n"
   ]
  },
  {
   "cell_type": "code",
   "execution_count": 29,
   "metadata": {},
   "outputs": [
    {
     "name": "stdout",
     "output_type": "stream",
     "text": [
      "The seating capacity of a school volvo is 50 passengers\n"
     ]
    }
   ],
   "source": [
    "\n",
    "## Class Inheritance: \n",
    "# Create a Bus class that inherits from the Vehicle class. Give the capacity argument of Bus.seating_capacity() a default value of 50.\n",
    "# 'Polymorphism' \n",
    "class Vehicle:\n",
    "    def __init__(self, name, max_speed, mileage):\n",
    "        self.name = name\n",
    "        self.max_speed = max_speed\n",
    "        self.mileage = mileage\n",
    "\n",
    "    def seating_capacity(self, capacity):\n",
    "        return f\"The seating capacity of a {self.name} is {capacity} passengers\"\n",
    "    \n",
    "\n",
    "class Bus(Vehicle): \n",
    "    # assign default value to capacity:\n",
    "    def seating_capacity(self, capacity=50):\n",
    "        return super().seating_capacity(capacity=50)\n",
    "    \n",
    "\n",
    "        \n",
    "# Object for testing: \n",
    "school_bus = Bus(\"school volvo\", 180, 20)\n",
    "print(school_bus.seating_capacity())\n",
    "    \n",
    "\n",
    "\n"
   ]
  },
  {
   "cell_type": "code",
   "execution_count": null,
   "metadata": {},
   "outputs": [],
   "source": []
  },
  {
   "cell_type": "markdown",
   "metadata": {},
   "source": [
    "## Define a property that must have the same value for every class instance (object) \n"
   ]
  },
  {
   "cell_type": "code",
   "execution_count": 22,
   "metadata": {},
   "outputs": [
    {
     "name": "stdout",
     "output_type": "stream",
     "text": [
      "white school volvo 180 20\n",
      "white car lux 120 6\n"
     ]
    }
   ],
   "source": [
    "\n",
    "## Define a property that must have the same value for every class instance (object) \n",
    "# Define a class attribute \"color” with a default value white. I.e., Every Vehicle should be white.\n",
    "\n",
    "\n",
    "##** Variables created in .__init__() are called INSTANCE VARIABLEs. An instance variable’s value\n",
    "    # is specific to a particular instance of the class\n",
    "##**  CLASS VARIABLE is shared between all class instances. You can define a class attribute by\n",
    "    # assigning a value to a variable name outside of .__init__()\n",
    "    #  a variable that is declared inside of class, but outside of any instance method or __init__() method.\n",
    "    \n",
    "class Vehicle:\n",
    "    \n",
    "    #* Class attribute:\n",
    "    color = \"white\"\n",
    "\n",
    "    def __init__(self, name, max_speed, mileage):\n",
    "        self.name = name \n",
    "        self.max_speed = max_speed\n",
    "        self.mileage = mileage\n",
    "\n",
    "\n",
    "class Bus(Vehicle):\n",
    "    pass\n",
    "\n",
    "\n",
    "class Car(Vehicle):\n",
    "    pass\n",
    "\n",
    "\n",
    "\n",
    "\n",
    "# Object for testing: \n",
    "School_bus = Bus(\"School Volvo\", 180, 12)\n",
    "print(School_bus.color, school_bus.name, school_bus.max_speed, school_bus.mileage)\n",
    "car = Car(\"car lux\", 120, 6)\n",
    "print(car.color, car.name, car.max_speed, car.mileage)\n",
    "    \n"
   ]
  },
  {
   "cell_type": "code",
   "execution_count": null,
   "metadata": {},
   "outputs": [],
   "source": []
  },
  {
   "cell_type": "markdown",
   "metadata": {},
   "source": [
    "## Class Inheritance\n"
   ]
  },
  {
   "cell_type": "code",
   "execution_count": 37,
   "metadata": {},
   "outputs": [
    {
     "name": "stdout",
     "output_type": "stream",
     "text": [
      "Total Bus fare is: 5500.0\n"
     ]
    }
   ],
   "source": [
    "\n",
    "## Class Inheritance\n",
    "# Create a Bus child class that inherits from the Vehicle class. The default fare charge of any\n",
    "    # vehicle is seating capacity * 100. If Vehicle is Bus instance, we need to add an extra 10% \n",
    "    # on full fare as a maintenance charge. So total fare for bus instance will become the final \n",
    "    # amount = total fare + 10% of the total fare.\n",
    "\n",
    "\n",
    "class Vehicle: \n",
    "    def __init__(self, name, mileage, capacity):\n",
    "        self.name = name\n",
    "        self.mileage = mileage\n",
    "        self.capacity = capacity\n",
    "        \n",
    "    def fare(self):\n",
    "        return self.capacity * 100\n",
    "    \n",
    "\n",
    "class Bus(Vehicle):\n",
    "    \n",
    "    def fare(self):\n",
    "        amount = super().fare()   # this gets you the return val from same name super fun? \n",
    "        return amount*1.1\n",
    "    \n",
    "    \n",
    "\n",
    "    \n",
    "# TEST\n",
    "School_bus = Bus(\"School Volvo\", 12, 50)\n",
    "print(\"Total Bus fare is:\", School_bus.fare())\n",
    "\n"
   ]
  },
  {
   "cell_type": "code",
   "execution_count": null,
   "metadata": {},
   "outputs": [],
   "source": []
  },
  {
   "cell_type": "markdown",
   "metadata": {},
   "source": [
    "## Check type of an object\n"
   ]
  },
  {
   "cell_type": "code",
   "execution_count": 42,
   "metadata": {},
   "outputs": [
    {
     "name": "stdout",
     "output_type": "stream",
     "text": [
      "<class '__main__.Bus'> school volvo 180 20\n",
      "<class '__main__.Bus'> genric 20\n"
     ]
    }
   ],
   "source": [
    "\n",
    "## Check type of an object\n",
    "# Write a program to determine which class a given Bus object belongs to.\n",
    "\n",
    "\n",
    "class Vehicle:\n",
    "    def __init__(self, name, mileage, capacity):\n",
    "        self.name = name\n",
    "        self.mileage = mileage\n",
    "        self.capacity = capacity\n",
    "\n",
    "class Bus(Vehicle):\n",
    "    pass\n",
    "\n",
    "\n",
    "\n",
    "\n",
    "# TEST:\n",
    "School_bus = Bus(\"School Volvo\", 12, 50)\n",
    "school_bus2 = Vehicle(\"genric\", 20, 43)\n",
    "print(type(School_bus), school_bus.name, school_bus.max_speed, school_bus.mileage)\n",
    "print(type(School_bus2), school_bus2.name, school_bus2.mileage)\n",
    "\n"
   ]
  },
  {
   "cell_type": "code",
   "execution_count": null,
   "metadata": {},
   "outputs": [],
   "source": []
  },
  {
   "cell_type": "markdown",
   "metadata": {},
   "source": [
    "## Determine if School_bus is also an instance of the Vehicle class\n"
   ]
  },
  {
   "cell_type": "code",
   "execution_count": 49,
   "metadata": {},
   "outputs": [
    {
     "name": "stdout",
     "output_type": "stream",
     "text": [
      "True\n",
      "True\n"
     ]
    }
   ],
   "source": [
    "\n",
    "## Determine if School_bus is also an instance of the Vehicle class\n",
    "\n",
    "\n",
    "class Vehicle:\n",
    "    def __init__(self, name, mileage, capacity):\n",
    "        self.name = name\n",
    "        self.mileage = mileage\n",
    "        self.capacity = capacity\n",
    "\n",
    "class Bus(Vehicle):\n",
    "    pass\n",
    "\n",
    "\n",
    "\n",
    "\n",
    "#TEST: \n",
    "school_bus = Bus(\"School Volvo\", 12, 50)\n",
    "\n",
    "# Python's built-in isinstance() function:\n",
    "#* isinstance(name, str) checks if name is an instance of a class str.\n",
    "print(isinstance(school_bus, Bus))\n",
    "print(isinstance(school_bus, Vehicle))\n",
    "\n"
   ]
  },
  {
   "cell_type": "code",
   "execution_count": null,
   "metadata": {},
   "outputs": [],
   "source": []
  },
  {
   "cell_type": "code",
   "execution_count": 56,
   "metadata": {},
   "outputs": [
    {
     "name": "stdout",
     "output_type": "stream",
     "text": [
      "3 True\n"
     ]
    }
   ],
   "source": [
    "\n",
    "# Create a class, Triangle. Its __init__() method should take self, angle1, angle2, and angle3\n",
    "    # as arguments. Make sure to set these appropriately in the body of the __init__()method.\n",
    "\n",
    "class Triangle:\n",
    "    \n",
    "    number_of_sides = 3 \n",
    "\n",
    "    def __init__(self, angle1, angle2, angle3):\n",
    "        self.angle1 = angle1\n",
    "        self.angle2 = angle2\n",
    "        self.angle3 = angle3    \n",
    "    \n",
    "    def check_angles(self): \n",
    "        if self.angle1+self.angle2+self.angle3 == 180:\n",
    "            return True\n",
    "        else:\n",
    "            return False\n",
    "        \n",
    "\n",
    "        \n",
    "# TEST: \n",
    "my_triangle = Triangle(90, 30, 60)\n",
    "print(my_triangle.number_of_sides, my_triangle.check_angles())\n",
    "\n"
   ]
  },
  {
   "cell_type": "code",
   "execution_count": null,
   "metadata": {},
   "outputs": [],
   "source": []
  },
  {
   "cell_type": "code",
   "execution_count": 57,
   "metadata": {},
   "outputs": [
    {
     "name": "stdout",
     "output_type": "stream",
     "text": [
      "May god bless you, \n",
      "Have a sunshine on you,\n",
      "Happy Birthday to you !\n",
      "None\n"
     ]
    }
   ],
   "source": [
    "\n",
    "# Define a class called Songs, it will show the lyrics of a song\n",
    "\n",
    "class Songs:\n",
    "    \n",
    "    def __init__(self, lyrics):\n",
    "        self.lyrics = lyrics\n",
    "        \n",
    "    def sing_me_a_song(self):\n",
    "        for item in self.lyrics:\n",
    "            print(item)\n",
    "    \n",
    "\n",
    "    \n",
    "# TEST:     \n",
    "happy_bday = Songs([\"May god bless you, \",\n",
    "                   \"Have a sunshine on you,\",\n",
    "                   \"Happy Birthday to you !\"])\n",
    "\n",
    "print(happy_bday.sing_me_a_song())\n",
    "\n"
   ]
  },
  {
   "cell_type": "code",
   "execution_count": null,
   "metadata": {},
   "outputs": [],
   "source": []
  },
  {
   "cell_type": "code",
   "execution_count": null,
   "metadata": {},
   "outputs": [],
   "source": []
  },
  {
   "cell_type": "code",
   "execution_count": null,
   "metadata": {},
   "outputs": [],
   "source": []
  },
  {
   "cell_type": "code",
   "execution_count": 61,
   "metadata": {},
   "outputs": [
    {
     "name": "stdout",
     "output_type": "stream",
     "text": [
      "Your choice: menu 1 Price 12.00\n",
      "None\n"
     ]
    }
   ],
   "source": [
    "\n",
    "# Define a class called Lunch.Its __init__() method should have two arguments\n",
    "# if \"menu 1\" print \"Your choice:\", menu, \"Price 12.00\", if \"menu 2\" print \"Your choice:\", menu, \"Price 13.40\", else print \"Error in menu\".\n",
    "class Lunch:\n",
    "    \n",
    "    def __init__(self, menu):\n",
    "        self.menu = menu\n",
    "    \n",
    "    def menu_price(self):\n",
    "        if self.menu == \"menu 1\":\n",
    "            print(\"Your choice:\", self.menu, \"Price 12.00\")\n",
    "        elif self.menu == \"menu 2\":\n",
    "            print(\"Your choice:\", self.menu, \"Price 13.40\")\n",
    "        else:\n",
    "            print(\"Error in menu\")\n",
    "            \n",
    "\n",
    "# TEST: \n",
    "Paul = Lunch(\"menu 1\") \n",
    "print(Paul.menu_price())\n",
    "            \n",
    "        "
   ]
  },
  {
   "cell_type": "code",
   "execution_count": null,
   "metadata": {},
   "outputs": [],
   "source": []
  },
  {
   "cell_type": "code",
   "execution_count": 2,
   "metadata": {
    "scrolled": true
   },
   "outputs": [
    {
     "name": "stdout",
     "output_type": "stream",
     "text": [
      "3.3\n",
      "3.5\n",
      "3.3\n",
      "3.5\n"
     ]
    }
   ],
   "source": [
    "\n",
    "# Object Oriented:\n",
    "#-------------------\n",
    "\n",
    "\n",
    "class Student(object):\n",
    "    def __init__(self, name, age, gender, level, grades=None):\n",
    "        self.name = name\n",
    "        self.age = age\n",
    "        self.gender = gender\n",
    "        self.level = level\n",
    "        self.grades = grades or {}\n",
    "\n",
    "    def setGrade(self, course, grade):\n",
    "        self.grades[course] = grade\n",
    "\n",
    "    def getGrade(self, course):\n",
    "        return self.grades[course]\n",
    "\n",
    "    def getGPA(self):\n",
    "        return sum(self.grades.values())/len(self.grades)\n",
    "\n",
    "# Define some students\n",
    "john = Student(\"John\", 12, \"male\", 6, {\"math\":3.3})\n",
    "jane = Student(\"Jane\", 12, \"female\", 6, {\"math\":3.5})\n",
    "\n",
    "# Now we can get to the grades easily\n",
    "print(john.getGPA())\n",
    "print(jane.getGPA())\n",
    "\n",
    "\n",
    "\n",
    "\n",
    "\n",
    "\n",
    "\n",
    "# Standard Dict:\n",
    "#-----------------\n",
    "\n",
    "\n",
    "def calculateGPA(gradeDict):\n",
    "    return sum(gradeDict.values())/len(gradeDict)\n",
    "\n",
    "students = {}\n",
    "# We can set the keys to variables so we might minimize typos\n",
    "name, age, gender, level, grades = \"name\", \"age\", \"gender\", \"level\", \"grades\"\n",
    "john, jane = \"john\", \"jane\"\n",
    "math = \"math\"\n",
    "students[john] = {}\n",
    "students[john][age] = 12\n",
    "students[john][gender] = \"male\"\n",
    "students[john][level] = 6\n",
    "students[john][grades] = {math:3.3}\n",
    "\n",
    "students[jane] = {}\n",
    "students[jane][age] = 12\n",
    "students[jane][gender] = \"female\"\n",
    "students[jane][level] = 6\n",
    "students[jane][grades] = {math:3.5}\n",
    "\n",
    "# At this point, we need to remember who the students are and where the grades are stored. Not a huge deal, but avoided by OOP.\n",
    "print(calculateGPA(students[john][grades]))\n",
    "print(calculateGPA(students[jane][grades]))\n",
    "\n",
    "\n",
    "\n",
    "\n",
    "## REF: https://stackoverflow.com/questions/33072570/when-should-i-be-using-classes-in-python  \n",
    "\n",
    "\n",
    "\n"
   ]
  },
  {
   "cell_type": "code",
   "execution_count": null,
   "metadata": {},
   "outputs": [],
   "source": []
  },
  {
   "cell_type": "code",
   "execution_count": null,
   "metadata": {},
   "outputs": [],
   "source": []
  },
  {
   "cell_type": "code",
   "execution_count": 5,
   "metadata": {},
   "outputs": [
    {
     "name": "stdout",
     "output_type": "stream",
     "text": [
      "Inside Constructor\n",
      "All variables initialized\n",
      "Hello, my name is Emma\n"
     ]
    }
   ],
   "source": [
    "\n",
    "## Constructors:\n",
    "class Student:\n",
    "\n",
    "    # constructor\n",
    "    # initialize instance variable\n",
    "    def __init__(self, name):\n",
    "        print('Inside Constructor')\n",
    "        self.name = name\n",
    "        print('All variables initialized')\n",
    "\n",
    "    # instance Method\n",
    "    def show(self):\n",
    "        print('Hello, my name is', self.name)\n",
    "\n",
    "\n",
    "# create object using constructor\n",
    "s1 = Student('Emma')\n",
    "s1.show()\n",
    "\n"
   ]
  },
  {
   "cell_type": "code",
   "execution_count": null,
   "metadata": {},
   "outputs": [],
   "source": []
  },
  {
   "cell_type": "code",
   "execution_count": 3,
   "metadata": {},
   "outputs": [
    {
     "name": "stdout",
     "output_type": "stream",
     "text": [
      "Completed task_1\n",
      "Completed task_2\n",
      "Completed task_3\n"
     ]
    }
   ],
   "source": [
    "## Static Methods: \n",
    "\n",
    "class Employee(object):\n",
    "\n",
    "    def __init__(self, name, salary, project_name):\n",
    "        self.name = name\n",
    "        self.salary = salary\n",
    "        self.project_name = project_name\n",
    "\n",
    "    @staticmethod\n",
    "    def gather_requirement(project_name):\n",
    "        if project_name == 'ABC Project':\n",
    "            requirement = ['task_1', 'task_2', 'task_3']\n",
    "        else:\n",
    "            requirement = ['task_1']\n",
    "        return requirement\n",
    "\n",
    "    # instance method\n",
    "    def work(self):\n",
    "        # call static method from instance method\n",
    "        requirement = self.gather_requirement(self.project_name)\n",
    "        for task in requirement:\n",
    "            print('Completed', task)\n",
    "\n",
    "emp = Employee('Kelly', 12000, 'ABC Project')\n",
    "emp.work()\n",
    "\n",
    "\n"
   ]
  },
  {
   "cell_type": "code",
   "execution_count": null,
   "metadata": {},
   "outputs": [],
   "source": []
  },
  {
   "cell_type": "code",
   "execution_count": 7,
   "metadata": {},
   "outputs": [
    {
     "name": "stdout",
     "output_type": "stream",
     "text": [
      "Details: Car x1 Red 20000\n",
      "Car max speed is 240\n",
      "Car change 7 gear\n",
      "Details: Truck x1 white 75000\n",
      "Vehicle max speed is 150\n",
      "Vehicle change 6 gear\n"
     ]
    }
   ],
   "source": [
    "\n",
    "##  Polymorphism: \n",
    "# Polymorphism with Inheritance\n",
    "\n",
    "class Vehicle:\n",
    "\n",
    "    def __init__(self, name, color, price):\n",
    "        self.name = name\n",
    "        self.color = color\n",
    "        self.price = price\n",
    "\n",
    "    def show(self):\n",
    "        print('Details:', self.name, self.color, self.price)\n",
    "\n",
    "    def max_speed(self):\n",
    "        print('Vehicle max speed is 150')\n",
    "\n",
    "    def change_gear(self):\n",
    "        print('Vehicle change 6 gear')\n",
    "\n",
    "\n",
    "        \n",
    "# inherit from vehicle class\n",
    "#---------------------------\n",
    "class Car(Vehicle):\n",
    "    def max_speed(self):\n",
    "        print('Car max speed is 240')\n",
    "\n",
    "    def change_gear(self):\n",
    "        print('Car change 7 gear')\n",
    "\n",
    "\n",
    "\n",
    "\n",
    "# Car Object\n",
    "car = Car('Car x1', 'Red', 20000)\n",
    "car.show()\n",
    "# calls methods from Car class\n",
    "car.max_speed()\n",
    "car.change_gear()\n",
    "\n",
    "# Vehicle Object\n",
    "vehicle = Vehicle('Truck x1', 'white', 75000)\n",
    "vehicle.show()\n",
    "# calls method from a Vehicle class\n",
    "vehicle.max_speed()\n",
    "vehicle.change_gear()\n",
    "\n",
    "\n",
    "\n"
   ]
  },
  {
   "cell_type": "code",
   "execution_count": 8,
   "metadata": {},
   "outputs": [
    {
     "name": "stdout",
     "output_type": "stream",
     "text": [
      "Redefine length\n",
      "4\n"
     ]
    }
   ],
   "source": [
    "\n",
    "## Polymorphism: Overrride Built-in Functions - \"len()\"\n",
    "\n",
    "class Shopping:\n",
    "    def __init__(self, basket, buyer):\n",
    "        self.basket = list(basket)\n",
    "        self.buyer = buyer\n",
    "\n",
    "    def __len__(self):\n",
    "        print('Redefine length')\n",
    "        count = len(self.basket)\n",
    "        # count total items in a different way\n",
    "        # pair of shoes and shir+pant\n",
    "        return count * 2\n",
    "\n",
    "shopping = Shopping(['Shoes', 'dress'], 'Jessa')\n",
    "print(len(shopping))\n"
   ]
  },
  {
   "cell_type": "code",
   "execution_count": 10,
   "metadata": {},
   "outputs": [
    {
     "name": "stdout",
     "output_type": "stream",
     "text": [
      "Petrol\n",
      "Max speed 350\n",
      "Diesel\n",
      "Max speed is 240\n"
     ]
    }
   ],
   "source": [
    "\n",
    "# Polymorphism In Class methods\n",
    "\n",
    "class Ferrari:\n",
    "    def fuel_type(self):\n",
    "        print(\"Petrol\")\n",
    "\n",
    "    def max_speed(self):\n",
    "        print(\"Max speed 350\")\n",
    "\n",
    "class BMW:\n",
    "    def fuel_type(self):\n",
    "        print(\"Diesel\")\n",
    "\n",
    "    def max_speed(self):\n",
    "        print(\"Max speed is 240\")\n",
    "\n",
    "ferrari = Ferrari()\n",
    "bmw = BMW()\n",
    "\n",
    "# iterate objects of same type\n",
    "for car in (ferrari, bmw):\n",
    "    # call methods without checking class of object\n",
    "    car.fuel_type()\n",
    "    car.max_speed()\n",
    "    \n",
    "\n",
    "##** They have the same instance method names fuel_type() and max_speed(). However, we have not\n",
    "    # linked both the classes nor have we used inheritance.\n",
    "    \n",
    "\n"
   ]
  },
  {
   "cell_type": "code",
   "execution_count": 11,
   "metadata": {},
   "outputs": [
    {
     "name": "stdout",
     "output_type": "stream",
     "text": [
      "Petrol\n",
      "Max speed 350\n",
      "Diesel\n",
      "Max speed is 240\n"
     ]
    }
   ],
   "source": [
    "\n",
    "# Polymorphism with Function and Objects\n",
    "\n",
    "class Ferrari:\n",
    "    def fuel_type(self):\n",
    "        print(\"Petrol\")\n",
    "\n",
    "    def max_speed(self):\n",
    "        print(\"Max speed 350\")\n",
    "\n",
    "class BMW:\n",
    "    def fuel_type(self):\n",
    "        print(\"Diesel\")\n",
    "\n",
    "    def max_speed(self):\n",
    "        print(\"Max speed is 240\")\n",
    "\n",
    "# normal function\n",
    "def car_details(obj):\n",
    "    obj.fuel_type()\n",
    "    obj.max_speed()\n",
    "\n",
    "ferrari = Ferrari()\n",
    "bmw = BMW()\n",
    "\n",
    "car_details(ferrari)\n",
    "car_details(bmw)\n",
    "\n",
    "\n",
    "\n"
   ]
  },
  {
   "cell_type": "code",
   "execution_count": 12,
   "metadata": {},
   "outputs": [
    {
     "name": "stdout",
     "output_type": "stream",
     "text": [
      "Area of Square is: 25\n",
      "Area of Rectangle is: 15\n"
     ]
    }
   ],
   "source": [
    "\n",
    "# pyhton way of method Overloading  (standard overloading not suported in python) \n",
    "# User-defined polymorphic method\n",
    "\n",
    "class Shape:\n",
    "    # function with two default parameters\n",
    "    def area(self, a, b=0):\n",
    "        if b > 0:\n",
    "            print('Area of Rectangle is:', a * b)\n",
    "        else:\n",
    "            print('Area of Square is:', a ** 2)\n",
    "\n",
    "square = Shape()\n",
    "square.area(5)\n",
    "\n",
    "rectangle = Shape()\n",
    "rectangle.area(5, 3)\n"
   ]
  },
  {
   "cell_type": "code",
   "execution_count": 15,
   "metadata": {},
   "outputs": [
    {
     "name": "stdout",
     "output_type": "stream",
     "text": [
      "300\n",
      "JessRoy\n",
      "[10, 20, 30, 'jessa', 'emma', 'kelly']\n",
      "Total number of pages:  700\n",
      "Worked for 50 days\n",
      "salary is:  40000\n"
     ]
    }
   ],
   "source": [
    "\n",
    "# Operator Overloading in Python\n",
    "\n",
    "# add 2 numbers\n",
    "print(100 + 200)\n",
    "\n",
    "# concatenate two strings\n",
    "print('Jess' + 'Roy')\n",
    "\n",
    "# merger two list\n",
    "print([10, 20, 30] + ['jessa', 'emma', 'kelly'])\n",
    "\n",
    "\n",
    "\n",
    "## Overloading + operator for custom objects\n",
    "#---------------------------------------------\n",
    "\n",
    "class Book:\n",
    "    def __init__(self, pages):\n",
    "        self.pages = pages\n",
    "\n",
    "    # Overloading + operator with magic method\n",
    "    def __add__(self, other):\n",
    "        return self.pages + other.pages\n",
    "\n",
    "b1 = Book(400)\n",
    "b2 = Book(300)\n",
    "print(\"Total number of pages: \", b1 + b2)\n",
    "\n",
    "\n",
    "\n",
    "\n",
    "##* Overloading the * Operator\n",
    "#---------------------------------\n",
    "class Employee:\n",
    "    def __init__(self, name, salary):\n",
    "        self.name = name\n",
    "        self.salary = salary\n",
    "\n",
    "    def __mul__(self, timesheet):\n",
    "        print('Worked for', timesheet.days, 'days')\n",
    "        # calculate salary\n",
    "        return self.salary * timesheet.days\n",
    "\n",
    "\n",
    "class TimeSheet:\n",
    "    def __init__(self, name, days):\n",
    "        self.name = name\n",
    "        self.days = days\n",
    "\n",
    "\n",
    "emp = Employee(\"Jessa\", 800)\n",
    "timesheet = TimeSheet(\"Jessa\", 50)\n",
    "print(\"salary is: \", emp * timesheet)\n",
    "\n",
    "\n",
    "\n"
   ]
  },
  {
   "cell_type": "code",
   "execution_count": null,
   "metadata": {},
   "outputs": [],
   "source": []
  },
  {
   "cell_type": "markdown",
   "metadata": {},
   "source": [
    "# Python Class Exercises\n"
   ]
  },
  {
   "cell_type": "code",
   "execution_count": 25,
   "metadata": {},
   "outputs": [
    {
     "name": "stdout",
     "output_type": "stream",
     "text": [
      "the 5th power of 5 is 3125.\n",
      "the 6 power of 5 is 15625.\n",
      "the 8 power of 2 is 256.\n"
     ]
    }
   ],
   "source": [
    "\n",
    "class Nobel():\n",
    "    def __init__(self, category, year, winner):\n",
    "        self.category = category\n",
    "        self.year = year\n",
    "        self.winner = winner\n",
    "    \n",
    "\n",
    "    \n",
    "\n",
    "#* __str__ function can be used to return a string representation for the class when needed.\n",
    "\n",
    "class Nobel():\n",
    "    \n",
    "    def __init__(self, category, year, winner):\n",
    "        self.category = category\n",
    "        self.year = year\n",
    "        self.winner = winner\n",
    "        \n",
    "    def __str__(self):\n",
    "        return \"{} was the winner of nobel {} prize in year {}\".format(self.winner, self.category, self.year)\n",
    "        \n",
    "\n",
    "        \n",
    "#------------------------\n",
    "        \n",
    "class Myfunc():\n",
    "    \n",
    "    def fifth(num):\n",
    "        return \"the 5th power of {} is {}.\".format(num, num**5)\n",
    "    \n",
    "\n",
    "ans = Myfunc.fifth(5)\n",
    "print(ans)\n",
    "\n",
    "#----------------------------\n",
    "\n",
    "\n",
    "\n",
    "        \n",
    "class Myfunc():\n",
    "    \n",
    "    def power(n1, n2):\n",
    "        return \"the {} power of {} is {}.\".format(n2, n1, n1**n2)\n",
    "    \n",
    "    def __str__(self):\n",
    "        return \"mMyfunc is a class which is capable of mathematical operations like raising a number to a power with power function.\"\n",
    "\n",
    "    \n",
    "\n",
    "ans1 = Myfunc.power(5, 6)\n",
    "ans2 = Myfunc.power(2, 8)\n",
    "\n",
    "print(ans1)\n",
    "print(ans2)\n",
    "\n",
    "\n",
    "\n"
   ]
  },
  {
   "cell_type": "code",
   "execution_count": null,
   "metadata": {},
   "outputs": [],
   "source": []
  },
  {
   "cell_type": "code",
   "execution_count": null,
   "metadata": {},
   "outputs": [],
   "source": [
    "\n",
    "\n"
   ]
  },
  {
   "cell_type": "code",
   "execution_count": null,
   "metadata": {},
   "outputs": [],
   "source": []
  },
  {
   "cell_type": "code",
   "execution_count": null,
   "metadata": {},
   "outputs": [],
   "source": []
  },
  {
   "cell_type": "code",
   "execution_count": null,
   "metadata": {},
   "outputs": [],
   "source": []
  },
  {
   "cell_type": "code",
   "execution_count": null,
   "metadata": {},
   "outputs": [],
   "source": []
  },
  {
   "cell_type": "code",
   "execution_count": null,
   "metadata": {},
   "outputs": [],
   "source": []
  },
  {
   "cell_type": "markdown",
   "metadata": {},
   "source": [
    "\n",
    "<div class=\"notebook-title\" style=\"background-color:#008B8B; color:white; padding:5px 5px; border-radius:5px;\"><h2 style='margin:7px 5px; font-size:22px'> Indexing Calls Workflow Fun   </h2>\n",
    "</div>\n",
    "\n"
   ]
  },
  {
   "cell_type": "markdown",
   "metadata": {},
   "source": [
    "\n",
    "\n",
    "<div style=\"border-color: #008B8B; border-style:solid; background-color:#D3D3D3\"><h2 style='margin:10px 5px; font-size:35px, color:#008B8B'>MAIN()  CALL: </h2></div>\n",
    "\n"
   ]
  },
  {
   "cell_type": "code",
   "execution_count": null,
   "metadata": {},
   "outputs": [],
   "source": []
  },
  {
   "cell_type": "code",
   "execution_count": null,
   "metadata": {},
   "outputs": [],
   "source": []
  },
  {
   "cell_type": "code",
   "execution_count": 23,
   "metadata": {},
   "outputs": [],
   "source": [
    "## REF: \n",
    "\n",
    "# https://pynative.com/python-object-oriented-programming-oop-exercise/\n",
    "# \n",
    "\n"
   ]
  },
  {
   "cell_type": "code",
   "execution_count": null,
   "metadata": {},
   "outputs": [],
   "source": []
  },
  {
   "cell_type": "code",
   "execution_count": null,
   "metadata": {},
   "outputs": [],
   "source": []
  }
 ],
 "metadata": {
  "kernelspec": {
   "display_name": "Python 3",
   "language": "python",
   "name": "python3"
  },
  "language_info": {
   "codemirror_mode": {
    "name": "ipython",
    "version": 3
   },
   "file_extension": ".py",
   "mimetype": "text/x-python",
   "name": "python",
   "nbconvert_exporter": "python",
   "pygments_lexer": "ipython3",
   "version": "3.8.3"
  }
 },
 "nbformat": 4,
 "nbformat_minor": 4
}
